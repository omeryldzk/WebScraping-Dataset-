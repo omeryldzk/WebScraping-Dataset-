{
 "cells": [
  {
   "cell_type": "code",
   "execution_count": 12,
   "metadata": {},
   "outputs": [
    {
     "name": "stderr",
     "output_type": "stream",
     "text": [
      "/var/folders/lz/72v2qwyx34g0fk80lsqg3qt80000gn/T/ipykernel_16907/1081871938.py:8: DtypeWarning: Columns (49,50) have mixed types. Specify dtype option on import or set low_memory=False.\n",
      "  yok_with_fees_df = pd.read_csv('test2.csv')\n"
     ]
    }
   ],
   "source": [
    "import pandas as pd\n",
    "from fuzzywuzzy import process, fuzz\n",
    "\n",
    "# Load the datasets\n",
    "ilk_is_bulma_suresi_df = pd.read_csv('ilk_iş_bulma_süresi_cleraed.csv')\n",
    "istihdam_orani_df = pd.read_csv('istihdam_oranı_cleared.csv')\n",
    "kazanc_grubu_df = pd.read_csv('kazanç_grubu_cleared.csv')\n",
    "yok_with_fees_df = pd.read_csv('test2.csv')\n",
    "\n",
    "# Function to get the best match for a faculty or department name\n",
    "def get_best_match(name, choices, threshold=70):\n",
    "    result = process.extractOne(name, choices, scorer=fuzz.token_set_ratio)\n",
    "    if result:\n",
    "        match, score = result  \n",
    "        return match if score >= threshold else None\n",
    "    return None\n",
    "\n",
    "\n",
    "# Function to merge datasets with fuzzy matching and nearest academic year\n",
    "def merge_datasets(df1, df2, dept_or_faculty_matches):\n",
    "    for dept_or_faculty in dept_or_faculty_matches:\n",
    "        df1['matched_name'] = df1['Program'].apply(lambda x: get_best_match(x, df2[dept_or_faculty].unique()))\n",
    "        for index, row in df2.iterrows():\n",
    "            matched_rows = df1.loc[df1['matched_name'] == row[dept_or_faculty]]\n",
    "            if not matched_rows.empty:\n",
    "                if row['academicYear'] <= 2022:\n",
    "                    df2.at[index, 'avg_monthly_income_group'] = matched_rows['2022'].values[0]\n",
    "                elif row['academicYear'] >= 2023:\n",
    "                    df2.at[index, 'avg_monthly_income_group'] = matched_rows['2023'].values[0]\n",
    "        df1.drop(columns=['matched_name'], inplace=True)\n",
    "    return df2\n",
    "# Attempt matches with both department and faculty names\n",
    "dept_or_faculty_matches = ['departmentName', 'faculty']\n",
    "\n",
    "# Merge the datasets\n",
    "merged_kazanc_grubu_df = merge_datasets(kazanc_grubu_df, yok_with_fees_df, dept_or_faculty_matches)\n",
    "\n",
    "# Save the updated DataFrames to new CSV files\n",
    "merged_kazanc_grubu_df.to_csv(\"final_tuik.csv\", index=False)"
   ]
  }
 ],
 "metadata": {
  "kernelspec": {
   "display_name": ".venv",
   "language": "python",
   "name": "python3"
  },
  "language_info": {
   "codemirror_mode": {
    "name": "ipython",
    "version": 3
   },
   "file_extension": ".py",
   "mimetype": "text/x-python",
   "name": "python",
   "nbconvert_exporter": "python",
   "pygments_lexer": "ipython3",
   "version": "3.12.6"
  }
 },
 "nbformat": 4,
 "nbformat_minor": 2
}
