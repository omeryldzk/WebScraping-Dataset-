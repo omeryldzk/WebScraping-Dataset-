{
 "cells": [
  {
   "cell_type": "code",
   "execution_count": null,
   "metadata": {},
   "outputs": [],
   "source": [
    "import pandas as pd\n",
    "\n",
    "df = pd.read_csv('ilk_iş_bulma_süresi.csv')\n",
    "\n",
    "def extract_turkish_program(program):\n",
    "    if isinstance(program, str):\n",
    "        return program.split('\\n')[0]\n",
    "    return program\n",
    "\n",
    "df['Program'] = df['Program'].apply(extract_turkish_program)\n",
    "\n",
    "df.to_csv('filtered_programs.csv', index=False)"
   ]
  }
 ],
 "metadata": {
  "kernelspec": {
   "display_name": "Python 3",
   "language": "python",
   "name": "python3"
  },
  "language_info": {
   "codemirror_mode": {
    "name": "ipython",
    "version": 3
   },
   "file_extension": ".py",
   "mimetype": "text/x-python",
   "name": "python",
   "nbconvert_exporter": "python",
   "pygments_lexer": "ipython3",
   "version": "3.9.6"
  }
 },
 "nbformat": 4,
 "nbformat_minor": 2
}
