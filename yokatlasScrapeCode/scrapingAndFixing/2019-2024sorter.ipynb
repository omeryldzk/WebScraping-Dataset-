{
 "cells": [
  {
   "cell_type": "code",
   "execution_count": 18,
   "metadata": {},
   "outputs": [],
   "source": [
    "import pandas as pd"
   ]
  },
  {
   "cell_type": "code",
   "execution_count": 19,
   "metadata": {},
   "outputs": [
    {
     "name": "stderr",
     "output_type": "stream",
     "text": [
      "C:\\Users\\AliCe\\AppData\\Local\\Temp\\ipykernel_32648\\955639917.py:1: DtypeWarning: Columns (8) have mixed types. Specify dtype option on import or set low_memory=False.\n",
      "  csvData = pd.read_csv(\"2019-2024-sorted(fixed)(fixed2)(fixed3)(fixed4).csv\", encoding=\"utf-8\")\n"
     ]
    }
   ],
   "source": [
    "csvData = pd.read_csv(\"2019-2024-sorted(fixed)(fixed2)(fixed3)(fixed4).csv\", encoding=\"utf-8\") "
   ]
  },
  {
   "cell_type": "code",
   "execution_count": 20,
   "metadata": {},
   "outputs": [],
   "source": [
    "csvData.sort_values([\"universityName\",\"faculty\",\"departmentName\",\"academicYear\"],\n",
    "                    axis=0,\n",
    "                    ascending=[True,True,True,True],\n",
    "                    inplace=True)"
   ]
  },
  {
   "cell_type": "code",
   "execution_count": 9,
   "metadata": {},
   "outputs": [],
   "source": [
    "fixedFileName = \"2019-2024-sorted2.csv\"\n",
    "newFile = open(fixedFileName, \"w\", newline=\"\", encoding=\"utf-8\")\n",
    "csvData.to_csv(newFile, index=False)\n"
   ]
  },
  {
   "cell_type": "code",
   "execution_count": null,
   "metadata": {},
   "outputs": [],
   "source": [
    "df = pd.DataFrame(csvData)\n",
    "uniqueCities = df[\"universityLocation\"].unique()\n",
    "for city in uniqueCities:\n",
    "    print(city)"
   ]
  },
  {
   "cell_type": "code",
   "execution_count": null,
   "metadata": {},
   "outputs": [],
   "source": [
    "filtered_rows = df.loc[df['universityLocation'] == 'KKTC-GAZİMAĞUSA']\n",
    "print(filtered_rows)"
   ]
  },
  {
   "cell_type": "code",
   "execution_count": 31,
   "metadata": {},
   "outputs": [
    {
     "name": "stdout",
     "output_type": "stream",
     "text": [
      "66955\n",
      "3500\n"
     ]
    }
   ],
   "source": [
    "df = pd.DataFrame(csvData)\n",
    "\n",
    "print(df.shape[0])\n",
    "\n",
    "df_KKTCfilterfiltered = df[~df.apply(lambda row: row.astype(str).str.contains('KKTC').any(), axis=1)]\n",
    "df_UOLPfiltered = df_KKTCfilterfiltered[~df_KKTCfilterfiltered.apply(lambda row: row.astype(str).str.contains('UOLP').any(), axis=1)]\n",
    "df_SUNYfiltered = df_UOLPfiltered[~df_UOLPfiltered.apply(lambda row: row.astype(str).str.contains('SUNY').any(), axis=1)]\n",
    "\n",
    "\n",
    "print(df.shape[0] - df_SUNYfiltered.shape[0])\n",
    "\n",
    "# KKTC_faculties = df[df['faculty'].str.contains(r'KKTC')]\n",
    "# KKTC_faculties.shape[0]\n",
    "\n",
    "\n",
    "# Lefkosa_rows = df[df['faculty'].str.contains(r'\\(KKTC-Lefkoşa')]\n",
    "# Guzelyurt_rows = df[df['faculty'].str.contains(r'\\(KKTC-Güzelyurt')]\n",
    "# Gazimagusa_rows = df[df['faculty'].str.contains(r'\\(KKTC-Gazimağusa')]\n",
    "\n",
    "# print(Lefkosa_rows.shape[0])\n",
    "# print(Guzelyurt_rows.shape[0])\n",
    "# print(Gazimagusa_rows.shape[0])\n",
    "\n",
    "# df[\"KKTCLocations\"] = filtered_rows['faculty'].str.extract(r'\\((.*?)\\)')\n",
    "# print(df['KKTCLocations'].unique())"
   ]
  }
 ],
 "metadata": {
  "kernelspec": {
   "display_name": "Python 3",
   "language": "python",
   "name": "python3"
  },
  "language_info": {
   "codemirror_mode": {
    "name": "ipython",
    "version": 3
   },
   "file_extension": ".py",
   "mimetype": "text/x-python",
   "name": "python",
   "nbconvert_exporter": "python",
   "pygments_lexer": "ipython3",
   "version": "3.12.6"
  }
 },
 "nbformat": 4,
 "nbformat_minor": 2
}
