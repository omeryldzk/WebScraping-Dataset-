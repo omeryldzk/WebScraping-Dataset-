{
  "nbformat": 4,
  "nbformat_minor": 0,
  "metadata": {
    "colab": {
      "provenance": [],
      "authorship_tag": "ABX9TyOcN3ADNGWYrmViih+ZnVlI",
      "include_colab_link": true
    },
    "kernelspec": {
      "name": "python3",
      "display_name": "Python 3"
    },
    "language_info": {
      "name": "python"
    }
  },
  "cells": [
    {
      "cell_type": "markdown",
      "metadata": {
        "id": "view-in-github",
        "colab_type": "text"
      },
      "source": [
        "<a href=\"https://colab.research.google.com/github/omeryldzk/WebScraping-Dataset-/blob/main/2021_fee.ipynb\" target=\"_parent\"><img src=\"https://colab.research.google.com/assets/colab-badge.svg\" alt=\"Open In Colab\"/></a>"
      ]
    },
    {
      "cell_type": "code",
      "execution_count": 5,
      "metadata": {
        "colab": {
          "base_uri": "https://localhost:8080/"
        },
        "id": "_iwDZjIgyK8r",
        "outputId": "9ab58c48-51cb-4031-d5e7-3665b74344d2"
      },
      "outputs": [
        {
          "output_type": "stream",
          "name": "stdout",
          "text": [
            "Data transformed and saved to 'transformed_data_2021.csv'\n"
          ]
        }
      ],
      "source": [
        "import pandas as pd\n",
        "\n",
        "# Load the dataset, ensuring \"ucret\" is read as a string\n",
        "df = pd.read_csv('university_fees.csv', dtype={\"ucret\": str})\n",
        "\n",
        "# Function to split the \"Bölüm/Fakülte\" column into 'Bölüm/Fakülte', 'Ücret', and 'Burs Oranı'\n",
        "def split_fields(row):\n",
        "    bölüm_fakülte = row[\"bolum_fakulte\"]\n",
        "\n",
        "    # Convert ücret to string, remove dots, and then convert to integer\n",
        "    ücret = int(str(row[\"ucret\"]).replace(\".\", \"\").strip())\n",
        "\n",
        "    # Convert burs_oranı to numeric values\n",
        "    burs_oranı = row[\"burs_orani\"].strip()\n",
        "    if \"50\" in burs_oranı:\n",
        "        burs_oranı = 50\n",
        "    elif \"25\" in burs_oranı:\n",
        "        burs_oranı = 25\n",
        "    else:\n",
        "        burs_oranı = 100  # for Ücretli\n",
        "\n",
        "    return pd.Series([bölüm_fakülte, ücret, burs_oranı])\n",
        "\n",
        "# Apply the function to each row\n",
        "df[[\"bolum_fakulte\", \"ucret\", \"burs_orani\"]] = df.apply(split_fields, axis=1)\n",
        "\n",
        "# Reorder columns to the new format\n",
        "df = df[[\"universite\", \"bolum_fakulte\", \"ucret\", \"burs_orani\", \"akademik_yil\"]]\n",
        "\n",
        "# Save the transformed data to a new CSV file\n",
        "df.to_csv('transformed_data_2021.csv', index=False)\n",
        "\n",
        "print(\"Data transformed and saved to 'transformed_data_2021.csv'\")\n"
      ]
    }
  ]
}