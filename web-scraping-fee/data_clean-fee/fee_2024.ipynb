{
  "nbformat": 4,
  "nbformat_minor": 0,
  "metadata": {
    "colab": {
      "provenance": [],
      "authorship_tag": "ABX9TyOCeJWRV8XivRqeYI92xT7a",
      "include_colab_link": true
    },
    "kernelspec": {
      "name": "python3",
      "display_name": "Python 3"
    },
    "language_info": {
      "name": "python"
    }
  },
  "cells": [
    {
      "cell_type": "markdown",
      "metadata": {
        "id": "view-in-github",
        "colab_type": "text"
      },
      "source": [
        "<a href=\"https://colab.research.google.com/github/omeryldzk/WebScraping-Dataset-/blob/main/fee_2024.ipynb\" target=\"_parent\"><img src=\"https://colab.research.google.com/assets/colab-badge.svg\" alt=\"Open In Colab\"/></a>"
      ]
    },
    {
      "cell_type": "code",
      "execution_count": 10,
      "metadata": {
        "colab": {
          "base_uri": "https://localhost:8080/"
        },
        "id": "_tSFhqsS29Yt",
        "outputId": "f84eee4b-ab67-45d2-824b-9441156e2c79"
      },
      "outputs": [
        {
          "output_type": "stream",
          "name": "stdout",
          "text": [
            "CSV file has been formatted successfully and saved as 'cleaned_data.csv'\n"
          ]
        }
      ],
      "source": [
        "import pandas as pd\n",
        "import re\n",
        "\n",
        "# Load the CSV file\n",
        "df = pd.read_csv('university_result.csv')\n",
        "\n",
        "# Step 1: Clean up the \"Üniversite\" field\n",
        "df['Üniversite'] = df['Üniversite'].str.replace(r' Eğitim Ücretleri 2025 ve Bursları', '', regex=True)\n",
        "df['Üniversite'] = df['Üniversite'].str.replace(r' Eğitim Ücretleri ve Bursları 2024 2025', '', regex=True)\n",
        "\n",
        "# Step 2: Extract \"burs_oranı\" and clean up the \"ücret\" column\n",
        "def extract_burs_oranı(row):\n",
        "    # Extract burs oranı percentage if present in the \"Bölüm/Fakülte\" or \"Ücret\" column\n",
        "    # Convert row['Bölüm/Fakülte'] to string before concatenation\n",
        "    burs_match = re.search(r'%\\d+', str(row['Bölüm/Fakülte']) + ' ' + str(row['Ücret']))\n",
        "    return burs_match.group(0) if burs_match else 'Ücretli'\n",
        "\n",
        "df['burs_oranı'] = df.apply(extract_burs_oranı, axis=1)\n",
        "\n",
        "# Step 3: Clean up the \"Bölüm/Fakülte\" column\n",
        "df['Bölüm/Fakülte'] = df['Bölüm/Fakülte'].str.replace(r'%\\d+', '', regex=True)\n",
        "# Step 4: Remove \"TL\" from the \"ücret\" values\n",
        "\n",
        "# Save the cleaned data to a new CSV file\n",
        "df.to_csv('cleaned_data.csv', index=False)\n",
        "\n",
        "print(\"CSV file has been formatted successfully and saved as 'cleaned_data.csv'\")"
      ]
    },
    {
      "cell_type": "code",
      "source": [
        "df = pd.read_csv('cleaned_data.csv')\n",
        "\n",
        "# Step 3: Handle rows with two `ücret` values\n",
        "def split_duplicated_ucret(row):\n",
        "    # Find all instances of \"ücret\" values in the current row\n",
        "    ucret_matches = re.findall(r'(\\d+\\.\\d+)', str(row['Ücret']))\n",
        "    # Find all percentage values (burs oranı)\n",
        "    burs_matches = re.findall(r'%\\s*(\\d+)', str(row['Ücret']))\n",
        "    rows = []\n",
        "    # If two or more `ücret` values are found, create new rows\n",
        "    for i in range(len(ucret_matches)):\n",
        "        new_row = row.copy()\n",
        "        new_row['Ücret'] = ucret_matches[i]  # Assign the found `ücret`\n",
        "        new_row['burs_oranı'] = f'%{burs_matches[i]}' if i < len(burs_matches) else row['burs_oranı']\n",
        "        rows.append(new_row)\n",
        "\n",
        "    return pd.DataFrame(rows)\n",
        "\n",
        "df = pd.concat(df.apply(split_duplicated_ucret, axis=1).tolist(), ignore_index=True)\n",
        "\n",
        "# Clean and format the 'Ücret' field\n",
        "df['Ücret'] = (\n",
        "    df['Ücret']\n",
        "    .replace('[^\\d]', '', regex=True)   # Remove any non-numeric characters\n",
        "    .astype(str)                       # Convert to numeric format\n",
        ")\n",
        "\n",
        "df.to_csv('final_cleaned_data.csv', index=False)"
      ],
      "metadata": {
        "id": "xgrbEZURNoqN"
      },
      "execution_count": 21,
      "outputs": []
    },
    {
      "cell_type": "code",
      "source": [
        "import pandas as pd\n",
        "import re\n",
        "\n",
        "# Load your data (ensure you have uploaded your CSV file to Colab)\n",
        "df = pd.read_csv('final_cleaned_data.csv')  # Replace with your file path\n",
        "\n",
        "# Function to convert burs_oranı\n",
        "def convert_burs_oranı(row):\n",
        "    # Convert burs_oranı to numeric values\n",
        "    burs_oranı = row[\"burs_oranı\"]\n",
        "    if \"50\" in burs_oranı:\n",
        "        burs_oranı = 50\n",
        "    elif \"25\" in burs_oranı:\n",
        "        burs_oranı = 25\n",
        "    else:\n",
        "        burs_oranı = 0 # for Ücretli\n",
        "\n",
        "    return pd.Series([burs_oranı])\n",
        "\n",
        "# Apply the function to each row\n",
        "df[[\"burs_oranı\"]] = df.apply(convert_burs_oranı, axis=1)\n",
        "# Save the updated DataFrame to a new CSV file\n",
        "df.to_csv('result_2024.csv', index=False)  # Specify your desired save path\n",
        "\n",
        "print(\"burs_oranı values have been updated successfully and saved as 'updated_data.csv'\")\n"
      ],
      "metadata": {
        "colab": {
          "base_uri": "https://localhost:8080/"
        },
        "id": "JIk2_57BRVRN",
        "outputId": "b7f77f0c-a6b2-421b-de1e-636cdbf42edb"
      },
      "execution_count": 28,
      "outputs": [
        {
          "output_type": "stream",
          "name": "stdout",
          "text": [
            "burs_oranı values have been updated successfully and saved as 'updated_data.csv'\n"
          ]
        }
      ]
    }
  ]
}