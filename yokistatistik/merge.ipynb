{
 "cells": [
  {
   "cell_type": "code",
   "execution_count": 1,
   "metadata": {},
   "outputs": [],
   "source": [
    "import pandas as pd\n",
    "import numpy as np\n",
    "\n",
    "# Load the dataset, ensuring \"ucret\" is read as a string\n",
    "df = pd.read_csv('alldepartments(cleaned).csv')\n",
    "\n",
    "# Convert \"baseRanking\" and \"topRanking\" columns to numeric, forcing errors to NaN\n",
    "df[\"baseRanking\"] = pd.to_numeric(df[\"baseRanking\"], errors='coerce')\n",
    "df[\"topRanking\"] = pd.to_numeric(df[\"topRanking\"], errors='coerce')\n",
    "\n",
    "# Function to calculate standard deviation for baseRanking and topRanking\n",
    "def calculate_std(row):\n",
    "    values = [row[\"baseRanking\"], row[\"topRanking\"]]\n",
    "    return np.std(values)\n",
    "\n",
    "# Apply the function to each row\n",
    "df[\"stdDeviationStudents\"] = df.apply(calculate_std, axis=1)\n",
    "\n",
    "# Save updated DataFrame to a new CSV\n",
    "df.to_csv(\"updated_data.csv\", index=False)"
   ]
  },
  {
   "cell_type": "code",
   "execution_count": 2,
   "metadata": {},
   "outputs": [],
   "source": [
    "df2 = pd.read_csv('foreignStudentDataFinal.csv')\n",
    "\n",
    "#Merge the DataFrames on the 'universityName' column\n",
    "merged_df = pd.merge(df, df2[['universityName', 'totalForeignStudents', 'totalStudentNumber']], on='universityName', how='left')\n",
    "\n",
    "# Save updated DataFrame to a new CSV\n",
    "merged_df.to_csv(\"updated_data.csv\", index=False)"
   ]
  },
  {
   "cell_type": "code",
   "execution_count": 1,
   "metadata": {},
   "outputs": [],
   "source": [
    "import pandas as pd\n",
    "from rapidfuzz import process, fuzz\n",
    "\n",
    "# Load the datasets\n",
    "df = pd.read_csv('updated_data.csv')\n",
    "df3 = pd.read_csv('csv_files/facultyInfo.csv')\n",
    "\n",
    "# Function to get the best match for a faculty name\n",
    "def get_best_match(faculty_name, choices, threshold=70):\n",
    "    result = process.extractOne(faculty_name, choices, scorer=fuzz.token_set_ratio)\n",
    "    if result:\n",
    "        match, score, _ = result  # rapidfuzz returns a tuple with an extra element\n",
    "        return match if score >= threshold else None\n",
    "    return None\n",
    "\n",
    "# Get unique faculty names from df3\n",
    "faculty_choices = df3['faculty'].unique()\n",
    "\n",
    "# Apply fuzzy matching to get the best match for each faculty in df\n",
    "df['matched_faculty'] = df['faculty'].apply(lambda x: get_best_match(x, faculty_choices))\n",
    "\n",
    "# Merge the DataFrames on the 'universityName' and 'matched_faculty' columns\n",
    "merged_df = pd.merge(df, df3[['universityName', 'faculty', 'facultyFoundingYear']], left_on=['universityName', 'matched_faculty'], right_on=['universityName', 'faculty'], how='left')\n",
    "\n",
    "# Drop the 'matched_faculty' column as it's no longer needed\n",
    "merged_df.drop(columns=['matched_faculty'], inplace=True)\n",
    "\n",
    "# Save the updated DataFrame to a new CSV\n",
    "merged_df.to_csv(\"updated_data.csv\", index=False)"
   ]
  }
 ],
 "metadata": {
  "kernelspec": {
   "display_name": ".venv",
   "language": "python",
   "name": "python3"
  },
  "language_info": {
   "codemirror_mode": {
    "name": "ipython",
    "version": 3
   },
   "file_extension": ".py",
   "mimetype": "text/x-python",
   "name": "python",
   "nbconvert_exporter": "python",
   "pygments_lexer": "ipython3",
   "version": "3.12.6"
  },
  "orig_nbformat": 4
 },
 "nbformat": 4,
 "nbformat_minor": 2
}
