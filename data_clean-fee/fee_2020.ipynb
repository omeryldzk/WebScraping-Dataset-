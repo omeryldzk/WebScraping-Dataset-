{
  "nbformat": 4,
  "nbformat_minor": 0,
  "metadata": {
    "colab": {
      "provenance": [],
      "authorship_tag": "ABX9TyOC6uOqwEj0Y40Ir2nWkyBy",
      "include_colab_link": true
    },
    "kernelspec": {
      "name": "python3",
      "display_name": "Python 3"
    },
    "language_info": {
      "name": "python"
    }
  },
  "cells": [
    {
      "cell_type": "markdown",
      "metadata": {
        "id": "view-in-github",
        "colab_type": "text"
      },
      "source": [
        "<a href=\"https://colab.research.google.com/github/omeryldzk/WebScraping-Dataset-/blob/main/fee_2020.ipynb\" target=\"_parent\"><img src=\"https://colab.research.google.com/assets/colab-badge.svg\" alt=\"Open In Colab\"/></a>"
      ]
    },
    {
      "cell_type": "code",
      "execution_count": 13,
      "metadata": {
        "colab": {
          "base_uri": "https://localhost:8080/"
        },
        "id": "7Yr0PqVNoszh",
        "outputId": "bce9063d-940c-4f96-cf74-f22354cf1527"
      },
      "outputs": [
        {
          "output_type": "stream",
          "name": "stdout",
          "text": [
            "                           Üniversite  \\\n",
            "0  Bahçeşehir Üniversitesi - İstanbul   \n",
            "1  Bahçeşehir Üniversitesi - İstanbul   \n",
            "2  Bahçeşehir Üniversitesi - İstanbul   \n",
            "3  Bahçeşehir Üniversitesi - İstanbul   \n",
            "4  Bahçeşehir Üniversitesi - İstanbul   \n",
            "\n",
            "                                       Bölüm/Fakülte  Ücret  burs_orani  \\\n",
            "0                                      Tıp Fakültesi  52685           0   \n",
            "1  Mühendislik ve Doğa Bilimleri Fakültesi, Mimar...  36018           0   \n",
            "2                Kalan diğer lisans programları için  33148           0   \n",
            "3                                    Hazırlık Sınıfı  33148           0   \n",
            "4                              Ön Lisans Programları  17870           0   \n",
            "\n",
            "   Akademik yıl  \n",
            "0          2020  \n",
            "1          2020  \n",
            "2          2020  \n",
            "3          2020  \n",
            "4          2020  \n"
          ]
        }
      ],
      "source": [
        "import pandas as pd\n",
        "\n",
        "# Load the dataset (adjust 'your_file.csv' to the path where your CSV is stored in Colab)\n",
        "df = pd.read_csv('2020_ücret.csv')\n",
        "\n",
        "# Clean and format the 'Ücret' field\n",
        "df['Ücret'] = (\n",
        "    df['Ücret']\n",
        "    .replace('[^\\d]', '', regex=True)   # Remove any non-numeric characters\n",
        "    .str[:-2]                            # Remove the last two digits\n",
        "    .astype(str)                       # Convert to numeric format\n",
        ")\n",
        "\n",
        "# Add the 'burs_orani' column with a default value of 0\n",
        "df['burs_orani'] = 0\n",
        "\n",
        "# Reorder columns as specified\n",
        "df = df[['Üniversite', 'Bölüm/Fakülte', 'Ücret', 'burs_orani', 'Akademik yıl']]\n",
        "\n",
        "# Display the formatted data\n",
        "print(df.head())\n",
        "\n",
        "# Optionally, save the cleaned data to a new CSV file\n",
        "df.to_csv('formatted_data_2020.csv', index=False)\n"
      ]
    },
    {
      "cell_type": "code",
      "source": [
        "!pwd\n",
        "!ls\n"
      ],
      "metadata": {
        "colab": {
          "base_uri": "https://localhost:8080/"
        },
        "id": "gy7OCZ_IpQcu",
        "outputId": "8e6119bf-043d-4e07-b255-75e7ccc3c969"
      },
      "execution_count": null,
      "outputs": [
        {
          "output_type": "stream",
          "name": "stdout",
          "text": [
            "/content\n",
            "2020_ücret.csv\tsample_data\n"
          ]
        }
      ]
    }
  ]
}