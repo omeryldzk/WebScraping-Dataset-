{
 "cells": [
  {
   "cell_type": "code",
   "execution_count": 1,
   "metadata": {},
   "outputs": [],
   "source": [
    "import pandas as pd\n",
    "import numpy as np\n",
    "\n",
    "# Load the datasets\n",
    "df = pd.read_csv('updated_data.csv')\n",
    "df_2024 = pd.read_csv('2024.csv')\n",
    "df_2023 = pd.read_csv('2023.csv')\n",
    "df_2022 = pd.read_csv('2022.csv')\n",
    "df_2021 = pd.read_csv('2021.csv')\n",
    "df_2020 = pd.read_csv('2020.csv')\n",
    "\n",
    "# Convert \"academicYear\" column to numeric, forcing errors to NaN\n",
    "df[\"academicYear\"] = pd.to_numeric(df[\"academicYear\"], errors='coerce')\n",
    "\n",
    "# Initialize an empty DataFrame to store the merged results\n",
    "merged_df = pd.DataFrame()\n",
    "\n",
    "# Function to merge based on academic year\n",
    "def merge_by_year(row):\n",
    "    if row[\"academicYear\"] == 2024:\n",
    "        return pd.merge(pd.DataFrame([row]), df_2024[['universityName', 'No', 'Toplam Puan']], on='universityName', how='left')\n",
    "    elif row[\"academicYear\"] == 2023:\n",
    "        return pd.merge(pd.DataFrame([row]), df_2023[['universityName', 'No', 'Toplam Puan']], on='universityName', how='left')\n",
    "    elif row[\"academicYear\"] == 2022:\n",
    "        return pd.merge(pd.DataFrame([row]), df_2022[['universityName', 'No', 'Toplam Puan']], on='universityName', how='left')\n",
    "    elif row[\"academicYear\"] == 2021:\n",
    "        return pd.merge(pd.DataFrame([row]), df_2021[['universityName', 'No', 'Toplam Puan']], on='universityName', how='left')\n",
    "    elif row[\"academicYear\"] == 2020:\n",
    "        return pd.merge(pd.DataFrame([row]), df_2020[['universityName', 'No', 'Toplam Puan']], on='universityName', how='left')\n",
    "    else:\n",
    "        return pd.DataFrame([row])\n",
    "\n",
    "# Apply the merge function to each row and concatenate the results\n",
    "merged_df = pd.concat([merge_by_year(row) for index, row in df.iterrows()], ignore_index=True)\n",
    "\n",
    "# Rename the columns\n",
    "merged_df.rename(columns={'No': 'Urap_Rank', 'Toplam Puan': 'Urap_Score'}, inplace=True)\n",
    "\n",
    "# Save the updated DataFrame to a new CSV\n",
    "merged_df.to_csv(\"updated_data.csv\", index=False)"
   ]
  }
 ],
 "metadata": {
  "kernelspec": {
   "display_name": ".venv",
   "language": "python",
   "name": "python3"
  },
  "language_info": {
   "codemirror_mode": {
    "name": "ipython",
    "version": 3
   },
   "file_extension": ".py",
   "mimetype": "text/x-python",
   "name": "python",
   "nbconvert_exporter": "python",
   "pygments_lexer": "ipython3",
   "version": "3.12.6"
  }
 },
 "nbformat": 4,
 "nbformat_minor": 2
}
