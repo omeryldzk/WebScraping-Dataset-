{
 "cells": [
  {
   "cell_type": "code",
   "execution_count": 7,
   "metadata": {},
   "outputs": [
    {
     "name": "stderr",
     "output_type": "stream",
     "text": [
      "/var/folders/lz/72v2qwyx34g0fk80lsqg3qt80000gn/T/ipykernel_14451/2915192073.py:5: DtypeWarning: Columns (8) have mixed types. Specify dtype option on import or set low_memory=False.\n",
      "  df = pd.read_csv('updated_data.csv')\n"
     ]
    }
   ],
   "source": [
    "import pandas as pd\n",
    "import numpy as np\n",
    "\n",
    "# Load the datasets\n",
    "df = pd.read_csv('updated_data.csv')\n",
    "df_2024 = pd.read_csv('2024.csv')\n",
    "df_2023 = pd.read_csv('2023.csv')\n",
    "df_2022 = pd.read_csv('2022.csv')\n",
    "df_2021 = pd.read_csv('2021.csv')\n",
    "df_2020 = pd.read_csv('2020.csv')\n",
    "df_2019 = pd.read_csv('2019.csv')\n",
    "\n",
    "# Convert \"academicYear\" column to numeric, forcing errors to NaN\n",
    "df[\"academicYear\"] = pd.to_numeric(df[\"academicYear\"], errors='coerce')\n",
    "\n",
    "# Ensure 'universityName' column exists in all DataFrames\n",
    "required_columns = ['universityName', 'No', 'Toplam Puan']\n",
    "for year_df in [df_2024, df_2023, df_2022, df_2021, df_2020, df_2019]:\n",
    "    missing_columns = [col for col in required_columns if col not in year_df.columns]\n",
    "    if missing_columns:\n",
    "        raise ValueError(f\"Missing columns {missing_columns} in one of the year DataFrames\")\n",
    "\n",
    "# Initialize an empty DataFrame to store the merged results\n",
    "merged_df = pd.DataFrame()\n",
    "\n",
    "# Function to merge based on academic year\n",
    "def merge_by_year(row):\n",
    "    if row[\"academicYear\"] == 2024:\n",
    "        return pd.merge(pd.DataFrame([row]), df_2024[['universityName', 'No', 'Toplam Puan']], on='universityName', how='left')\n",
    "    elif row[\"academicYear\"] == 2023:\n",
    "        return pd.merge(pd.DataFrame([row]), df_2023[['universityName', 'No', 'Toplam Puan']], on='universityName', how='left')\n",
    "    elif row[\"academicYear\"] == 2022:\n",
    "        return pd.merge(pd.DataFrame([row]), df_2022[['universityName', 'No', 'Toplam Puan']], on='universityName', how='left')\n",
    "    elif row[\"academicYear\"] == 2021:\n",
    "        return pd.merge(pd.DataFrame([row]), df_2021[['universityName', 'No', 'Toplam Puan']], on='universityName', how='left')\n",
    "    elif row[\"academicYear\"] == 2020:\n",
    "        return pd.merge(pd.DataFrame([row]), df_2020[['universityName', 'No', 'Toplam Puan']], on='universityName', how='left')\n",
    "    elif row[\"academicYear\"] == 2019:\n",
    "        return pd.merge(pd.DataFrame([row]), df_2019[['universityName', 'No', 'Toplam Puan']], on='universityName', how='left')\n",
    "    else:\n",
    "        return pd.DataFrame([row])\n",
    "\n",
    "# Apply the merge function to each row and concatenate the results\n",
    "merged_df = pd.concat([merge_by_year(row) for index, row in df.iterrows()], ignore_index=True)\n",
    "\n",
    "# Rename the columns\n",
    "merged_df.rename(columns={'No': 'Urap_Rank', 'Toplam Puan': 'Urap_Score'}, inplace=True)\n",
    "\n",
    "# Save the updated DataFrame to a new CSV\n",
    "merged_df.to_csv(\"updated_data.csv\", index=False)"
   ]
  },
  {
   "cell_type": "code",
   "execution_count": 6,
   "metadata": {},
   "outputs": [
    {
     "name": "stdout",
     "output_type": "stream",
     "text": [
      "academicYear                       0\n",
      "universityName                     0\n",
      "universityType                     0\n",
      "faculty                            0\n",
      "departmentName                     0\n",
      "idOSYM                             0\n",
      "programType                        0\n",
      "language                           0\n",
      "scholarshipRate                30874\n",
      "quota                              0\n",
      "occupiedSlots                      0\n",
      "tuitionFee                     65281\n",
      "universityFoundingYear         65281\n",
      "facultyFoundingYear            65281\n",
      "universityLocation                 0\n",
      "universityRegion                   0\n",
      "profCount                          0\n",
      "assoCount                          0\n",
      "docCount                           0\n",
      "baseRanking                        0\n",
      "topRanking                         0\n",
      "avgAdmissionRanking(TYT)           0\n",
      "baseAdmissionRanking(TYT)          0\n",
      "stdDeviationStudents               0\n",
      "revenue                        65281\n",
      "outOfCityStudentRate               0\n",
      "totalPreference                    0\n",
      "top1PreferenceRatio                0\n",
      "avgOrderofPreference               0\n",
      "tuitionFeeIncrease             65281\n",
      "avgAdmittedStudentPrefOrder        0\n",
      "top1AdmittedRatio                  0\n",
      "top3AdmittedRatio                  0\n",
      "top10AdmittedRatio                 0\n",
      "admittedTotalPref                  0\n",
      "admittedTotalDepartmentPref        0\n",
      "currentStudentCount                0\n",
      "baseScore                         33\n",
      "topScore                          31\n",
      "totalForeignStudents             295\n",
      "totalStudentNumber               295\n",
      "dtype: int64\n"
     ]
    }
   ],
   "source": [
    "print(df.isnull().sum())"
   ]
  }
 ],
 "metadata": {
  "kernelspec": {
   "display_name": ".venv",
   "language": "python",
   "name": "python3"
  },
  "language_info": {
   "codemirror_mode": {
    "name": "ipython",
    "version": 3
   },
   "file_extension": ".py",
   "mimetype": "text/x-python",
   "name": "python",
   "nbconvert_exporter": "python",
   "pygments_lexer": "ipython3",
   "version": "3.12.6"
  }
 },
 "nbformat": 4,
 "nbformat_minor": 2
}
