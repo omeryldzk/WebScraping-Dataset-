{
 "cells": [
  {
   "cell_type": "code",
   "execution_count": 4,
   "metadata": {},
   "outputs": [
    {
     "name": "stdout",
     "output_type": "stream",
     "text": [
      "9942\n",
      "33442\n",
      "16502\n"
     ]
    }
   ],
   "source": [
    "import pandas as pd\n",
    "\n",
    "df = pd.read_csv('fee_yök.csv')\n",
    "# print(df.isnull().sum())\n",
    "\n",
    "# print 2019 count\n",
    "print(df[(df['academicYear'] == 2019)].shape[0])\n",
    "\n",
    "## how many Estimated Fee rows are 0 and type = vakıf\n",
    "print(df[(df['universityType'] == 'vakıf')].shape[0])\n",
    "print(df[(df['Estimated Fee'] == 0) & (df['universityType'] == 'vakıf') & (df['scholarshipRate'] == 100)].shape[0])"
   ]
  },
  {
   "cell_type": "code",
   "execution_count": 6,
   "metadata": {},
   "outputs": [
    {
     "name": "stdout",
     "output_type": "stream",
     "text": [
      "33442\n",
      "16502\n"
     ]
    }
   ],
   "source": [
    "df_old = pd.read_csv('fee_yök.csv')\n",
    "\n",
    "# print(df_old.isnull().sum())\n",
    "## how many Estimated Fee rows are 0 and type = vakıf\n",
    "print(df_old[(df_old['universityType'] == 'vakıf')].shape[0])\n",
    "print(df_old[(df_old['Estimated Fee'] == 0) & (df_old['universityType'] == 'vakıf')].shape[0])"
   ]
  },
  {
   "cell_type": "code",
   "execution_count": 3,
   "metadata": {},
   "outputs": [
    {
     "name": "stdout",
     "output_type": "stream",
     "text": [
      "65281\n",
      "academicYear                       0\n",
      "universityName                     0\n",
      "universityType                     0\n",
      "faculty                            0\n",
      "departmentName                     0\n",
      "idOSYM                             0\n",
      "programType                        0\n",
      "language                           0\n",
      "scholarshipRate                31241\n",
      "quota                              0\n",
      "occupiedSlots                      0\n",
      "tuitionFee                     65281\n",
      "universityFoundingYear         65281\n",
      "facultyFoundingYear            65281\n",
      "universityLocation                 0\n",
      "universityRegion                   0\n",
      "profCount                          0\n",
      "assoCount                          0\n",
      "docCount                           0\n",
      "baseRanking                        0\n",
      "topRanking                         0\n",
      "avgAdmissionRanking(TYT)           0\n",
      "baseAdmissionRanking(TYT)          0\n",
      "stdDeviationStudents               0\n",
      "revenue                        65281\n",
      "outOfCityStudentRate               0\n",
      "totalPreference                    0\n",
      "top1PreferenceRatio                0\n",
      "avgOrderofPreference               0\n",
      "tuitionFeeIncrease             65281\n",
      "avgAdmittedStudentPrefOrder        0\n",
      "top1AdmittedRatio                  0\n",
      "top3AdmittedRatio                  0\n",
      "top10AdmittedRatio                 0\n",
      "admittedTotalPref                  0\n",
      "admittedTotalDepartmentPref        0\n",
      "currentStudentCount                0\n",
      "baseScore                         33\n",
      "topScore                          31\n",
      "totalForeignStudents             295\n",
      "totalStudentNumber               295\n",
      "Urap_Rank                       3579\n",
      "Urap_Score                      3579\n",
      "normalized_department              0\n",
      "normalized_faculty                 0\n",
      "Estimated Fee                  10152\n",
      "dtype: int64\n",
      "       academicYear        idOSYM  scholarshipRate         quota  \\\n",
      "count  65281.000000  6.528100e+04     34040.000000  65281.000000   \n",
      "mean    2021.387494  1.561391e+08        66.815511     42.189213   \n",
      "std        1.656787  4.918308e+07        36.158886     79.055275   \n",
      "min     2019.000000  1.001100e+08         0.000000      1.000000   \n",
      "25%     2020.000000  1.059901e+08        50.000000     10.000000   \n",
      "50%     2021.000000  2.002117e+08        50.000000     31.000000   \n",
      "75%     2023.000000  2.035109e+08       100.000000     60.000000   \n",
      "max     2024.000000  2.104028e+08       100.000000   5800.000000   \n",
      "\n",
      "       occupiedSlots  tuitionFee  universityFoundingYear  facultyFoundingYear  \\\n",
      "count   65281.000000         0.0                     0.0                  0.0   \n",
      "mean       39.477919         NaN                     NaN                  NaN   \n",
      "std        75.090910         NaN                     NaN                  NaN   \n",
      "min         1.000000         NaN                     NaN                  NaN   \n",
      "25%         8.000000         NaN                     NaN                  NaN   \n",
      "50%        29.000000         NaN                     NaN                  NaN   \n",
      "75%        60.000000         NaN                     NaN                  NaN   \n",
      "max      5945.000000         NaN                     NaN                  NaN   \n",
      "\n",
      "          profCount     assoCount  ...  admittedTotalPref  \\\n",
      "count  65281.000000  65281.000000  ...       65281.000000   \n",
      "mean       4.436972      2.272315  ...         527.860419   \n",
      "std       16.775925      6.209035  ...         900.594557   \n",
      "min        0.000000      0.000000  ...           1.000000   \n",
      "25%        0.000000      0.000000  ...         109.000000   \n",
      "50%        1.000000      1.000000  ...         340.000000   \n",
      "75%        3.000000      2.000000  ...         775.000000   \n",
      "max      321.000000    106.000000  ...       83518.000000   \n",
      "\n",
      "       admittedTotalDepartmentPref  currentStudentCount     baseScore  \\\n",
      "count                 65281.000000         65281.000000  6.524800e+04   \n",
      "mean                    231.177218           276.253351  1.150593e+12   \n",
      "std                     372.719066          4266.494439  9.850208e+13   \n",
      "min                       0.000000             0.000000  0.000000e+00   \n",
      "25%                      38.000000            33.000000  2.545747e+02   \n",
      "50%                     107.000000            97.000000  3.095464e+02   \n",
      "75%                     286.000000           240.000000  3.824493e+02   \n",
      "max                    6871.000000        632209.000000  9.139548e+15   \n",
      "\n",
      "           topScore  totalForeignStudents  totalStudentNumber     Urap_Rank  \\\n",
      "count  6.525000e+04          64986.000000        64986.000000  61702.000000   \n",
      "mean   1.166040e+11           1834.777783        13950.990937     82.196039   \n",
      "std    2.978537e+13           2168.747308         9855.795921     52.099833   \n",
      "min    0.000000e+00              2.000000            0.000000      1.000000   \n",
      "25%    3.112184e+02            392.000000         6359.000000     39.000000   \n",
      "50%    3.640948e+02           1093.000000        12278.000000     77.000000   \n",
      "75%    4.274220e+02           2210.000000        19243.000000    129.000000   \n",
      "max    7.608399e+15          15755.000000        43610.000000    190.000000   \n",
      "\n",
      "         Urap_Score  Estimated Fee  \n",
      "count  61702.000000   55129.000000  \n",
      "mean     499.196586   10386.850231  \n",
      "std      203.262547   46939.165140  \n",
      "min       79.430000       0.000000  \n",
      "25%      345.900000       0.000000  \n",
      "50%      475.670000       0.000000  \n",
      "75%      636.110000       0.000000  \n",
      "max     1126.410000  945000.000000  \n",
      "\n",
      "[8 rows x 33 columns]\n"
     ]
    }
   ],
   "source": [
    "print(df.shape[0])\n",
    "print(df.isnull().sum())\n",
    "print(df.describe())"
   ]
  }
 ],
 "metadata": {
  "kernelspec": {
   "display_name": ".venv",
   "language": "python",
   "name": "python3"
  },
  "language_info": {
   "codemirror_mode": {
    "name": "ipython",
    "version": 3
   },
   "file_extension": ".py",
   "mimetype": "text/x-python",
   "name": "python",
   "nbconvert_exporter": "python",
   "pygments_lexer": "ipython3",
   "version": "3.12.6"
  }
 },
 "nbformat": 4,
 "nbformat_minor": 2
}
