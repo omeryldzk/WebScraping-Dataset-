{
 "cells": [
  {
   "cell_type": "code",
   "execution_count": 2,
   "metadata": {},
   "outputs": [
    {
     "name": "stdout",
     "output_type": "stream",
     "text": [
      "academicYear                       0\n",
      "universityName                     0\n",
      "universityType                     0\n",
      "faculty                            0\n",
      "departmentName                     0\n",
      "idOSYM                             0\n",
      "programType                        0\n",
      "language                           0\n",
      "scholarshipRate                16268\n",
      "quota                              0\n",
      "occupiedSlots                      0\n",
      "tuitionFee                     27687\n",
      "universityFoundingYear         27687\n",
      "facultyFoundingYear            27687\n",
      "universityLocation                 0\n",
      "universityRegion                   0\n",
      "profCount                        355\n",
      "assoCount                        355\n",
      "docCount                         355\n",
      "baseRanking                     1497\n",
      "topRanking                       213\n",
      "avgAdmissionRanking(TYT)        3834\n",
      "baseAdmissionRanking(TYT)        527\n",
      "stdDeviationStudents            1624\n",
      "revenue                        27687\n",
      "outOfCityStudentRate               0\n",
      "sameRegionStudentRate              0\n",
      "totalPreference                    0\n",
      "weightedPreference             27687\n",
      "top1PreferenceRatio                0\n",
      "top3PreferenceRatio                0\n",
      "top9PreferenceRatio                0\n",
      "avgOrderofPreference              49\n",
      "tuitionFeeIncrease             27687\n",
      "avgAdmittedStudentPrefOrder      527\n",
      "top1AdmittedRatio                  0\n",
      "top3AdmittedRatio                  0\n",
      "top10AdmittedRatio                 0\n",
      "admittedPrefTrendRatio         27687\n",
      "admittedGovPref                  754\n",
      "admittedPrivPref                 527\n",
      "admittedTotalPref                527\n",
      "admittedTotalDepartmentPref      527\n",
      "currentStudentCount             1326\n",
      "totalForeignStudents              88\n",
      "totalStudentNumber                88\n",
      "Urap_Rank                       1483\n",
      "Urap_Score                      1483\n",
      "Estimated Fee                      0\n",
      "dtype: int64\n"
     ]
    }
   ],
   "source": [
    "import pandas as pd\n",
    "\n",
    "df = pd.read_csv('yök_with_fees.csv')\n",
    "print(df.isnull().sum())"
   ]
  }
 ],
 "metadata": {
  "kernelspec": {
   "display_name": ".venv",
   "language": "python",
   "name": "python3"
  },
  "language_info": {
   "codemirror_mode": {
    "name": "ipython",
    "version": 3
   },
   "file_extension": ".py",
   "mimetype": "text/x-python",
   "name": "python",
   "nbconvert_exporter": "python",
   "pygments_lexer": "ipython3",
   "version": "3.12.6"
  }
 },
 "nbformat": 4,
 "nbformat_minor": 2
}
