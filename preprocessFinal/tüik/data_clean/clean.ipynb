{
 "cells": [
  {
   "cell_type": "code",
   "execution_count": 4,
   "metadata": {},
   "outputs": [],
   "source": [
    "import csv\n",
    "\n",
    "# Function to extract Turkish program names and clean extra spaces\n",
    "def extract_turkish_program(program):\n",
    "    if isinstance(program, str):\n",
    "        return ' '.join(program.split('\\n')[0].split())\n",
    "    return program\n",
    "\n",
    "# Read the CSV file and process the data\n",
    "with open('istdihdam_oran.csv', mode='r', encoding='utf-8') as infile, open('istihdam_oranı_cleared.csv', mode='w', encoding='utf-8', newline='') as outfile:\n",
    "    reader = csv.reader(infile)\n",
    "    writer = csv.writer(outfile)\n",
    "    \n",
    "    # Write the header\n",
    "    header = next(reader)\n",
    "    writer.writerow(header)\n",
    "    \n",
    "    # Process each row\n",
    "    for row in reader:\n",
    "        row[0] = extract_turkish_program(row[0])\n",
    "        # Remove extra commas\n",
    "        row = [item for item in row if item]\n",
    "        writer.writerow(row)"
   ]
  }
 ],
 "metadata": {
  "kernelspec": {
   "display_name": "Python 3",
   "language": "python",
   "name": "python3"
  },
  "language_info": {
   "codemirror_mode": {
    "name": "ipython",
    "version": 3
   },
   "file_extension": ".py",
   "mimetype": "text/x-python",
   "name": "python",
   "nbconvert_exporter": "python",
   "pygments_lexer": "ipython3",
   "version": "3.9.6"
  }
 },
 "nbformat": 4,
 "nbformat_minor": 2
}
