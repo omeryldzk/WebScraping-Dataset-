{
 "cells": [
  {
   "cell_type": "code",
   "execution_count": 20,
   "metadata": {},
   "outputs": [],
   "source": [
    "import csv\n",
    "\n",
    "# Function to extract Turkish program names and clean extra spaces\n",
    "def extract_turkish_program(program):\n",
    "    if isinstance(program, str):\n",
    "        return ' '.join(program.split('\\n')[0].split())\n",
    "    return program\n",
    "\n",
    "# Function to map the values\n",
    "def map_values(value):\n",
    "    if isinstance(value, str):\n",
    "        value = value.strip()\n",
    "        if value == \"Çok yüksek\\nVery high\":\n",
    "            return 2\n",
    "        elif value == \"Yüksek\\nHigh\":\n",
    "            return 1\n",
    "        elif value == \"Orta\\nMedium\":\n",
    "            return 0\n",
    "        elif value == \"Düşük\\nLow\":\n",
    "            return -1\n",
    "        elif value == \"Çok düşük\\nVery low\":\n",
    "            return -2\n",
    "    return value\n",
    "\n",
    "# Read the CSV file and process the data\n",
    "with open('kazanç_grubu.csv', mode='r', encoding='utf-8') as infile, open('cleared.csv', mode='w', encoding='utf-8', newline='') as outfile:\n",
    "    reader = csv.reader(infile)\n",
    "    writer = csv.writer(outfile)\n",
    "    \n",
    "    # Write the header\n",
    "    header = next(reader)\n",
    "    writer.writerow(['Program', '2022', '2023'])\n",
    "    \n",
    "    # Process each row\n",
    "    for row in reader:\n",
    "        if len(row) >= 4:  # Ensure the row has at least 4 columns\n",
    "            program = extract_turkish_program(row[0])\n",
    "            value_2022 = map_values(row[1]) if len(row) > 1 else ''\n",
    "            value_2023 = map_values(row[3]) if len(row) > 3 else ''\n",
    "            if(value_2022 == '.' and value_2023 != '.'):\n",
    "                value_2022 = value_2023\n",
    "            elif(value_2022 != '.' and value_2023 == '.'):\n",
    "                value_2023 = value_2022\n",
    "            writer.writerow([program, value_2022, value_2023])\n",
    "        \n",
    "    "
   ]
  }
 ],
 "metadata": {
  "kernelspec": {
   "display_name": "Python 3",
   "language": "python",
   "name": "python3"
  },
  "language_info": {
   "codemirror_mode": {
    "name": "ipython",
    "version": 3
   },
   "file_extension": ".py",
   "mimetype": "text/x-python",
   "name": "python",
   "nbconvert_exporter": "python",
   "pygments_lexer": "ipython3",
   "version": "3.9.6"
  }
 },
 "nbformat": 4,
 "nbformat_minor": 2
}
